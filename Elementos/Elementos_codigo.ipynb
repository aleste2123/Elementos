{
 "cells": [
  {
   "cell_type": "code",
   "execution_count": 1,
   "id": "3f21a96e",
   "metadata": {},
   "outputs": [],
   "source": [
    "import openpyxl\n",
    "import numpy as np"
   ]
  },
  {
   "cell_type": "code",
   "execution_count": 2,
   "id": "789f5f74",
   "metadata": {},
   "outputs": [],
   "source": [
    "conexiones = [[1,4], [2,7], [3, 9], [4,6], [6,9], [8,9],[7,8], [7,5], [4,5]]\n",
    "valores = [1/(0.0576j), 1/0.0625j,1/0.0586j, 1/(0.017 +0.092j), 1/(0.039+0.17j), 1/(0.01189981+ 0.10040076j), 1/(0.00850095+0.072), 1/(0.032+0.161j),1/(0.01010019+0.085j) ]"
   ]
  },
  {
   "cell_type": "code",
   "execution_count": 3,
   "id": "4baa960b",
   "metadata": {},
   "outputs": [
    {
     "name": "stdout",
     "output_type": "stream",
     "text": [
      "[[ -0.        -17.36111111j   0.         +0.j\n",
      "    0.         +0.j          -0.        +17.36111111j\n",
      "    0.         +0.j           0.         +0.j\n",
      "    0.         +0.j           0.         +0.j\n",
      "    0.         +0.j        ]\n",
      " [  0.         +0.j          -0.        -16.j\n",
      "    0.         +0.j           0.         +0.j\n",
      "    0.         +0.j           0.         +0.j\n",
      "   -0.        +16.j           0.         +0.j\n",
      "    0.         +0.j        ]\n",
      " [  0.         +0.j           0.         +0.j\n",
      "   -0.        -17.06484642j   0.         +0.j\n",
      "    0.         +0.j           0.         +0.j\n",
      "    0.         +0.j           0.         +0.j\n",
      "   -0.        +17.06484642j]\n",
      " [ -0.        +17.36111111j   0.         +0.j\n",
      "    0.         +0.j           3.32067779-39.47269933j\n",
      "   -1.37848655+11.60090616j  -1.94219125+10.51068205j\n",
      "    0.         +0.j           0.         +0.j\n",
      "    0.         +0.j        ]\n",
      " [  0.         +0.j           0.         +0.j\n",
      "    0.         +0.j          -1.37848655+11.60090616j\n",
      "    2.56609093-17.5760407j    0.         +0.j\n",
      "   -1.18760438 +5.97513453j   0.         +0.j\n",
      "    0.         +0.j        ]\n",
      " [  0.         +0.j           0.         +0.j\n",
      "    0.         +0.j          -1.94219125+10.51068205j\n",
      "    0.         +0.j           3.22420039-16.09892701j\n",
      "    0.         +0.j           0.         +0.j\n",
      "   -1.28200914 +5.58824496j]\n",
      " [  0.         +0.j          -0.        +16.j\n",
      "    0.         +0.j           0.         +0.j\n",
      "   -1.18760438 +5.97513453j   0.         +0.j\n",
      "   13.60981803-21.97513453j -12.42221365 +0.j\n",
      "    0.         +0.j        ]\n",
      " [  0.         +0.j           0.         +0.j\n",
      "    0.         +0.j           0.         +0.j\n",
      "    0.         +0.j           0.         +0.j\n",
      "  -12.42221365 +0.j          13.58636013 -9.82210571j\n",
      "   -1.16414648 +9.82210571j]\n",
      " [  0.         +0.j           0.         +0.j\n",
      "   -0.        +17.06484642j   0.         +0.j\n",
      "    0.         +0.j          -1.28200914 +5.58824496j\n",
      "    0.         +0.j          -1.16414648 +9.82210571j\n",
      "    2.44615562-32.47519709j]]\n"
     ]
    }
   ],
   "source": [
    "Y_bus = np.zeros((9,9), dtype=complex)\n",
    "for i in range(0,len(conexiones)):\n",
    "    Y_bus[conexiones[i][0]-1,conexiones[i][1]-1] = -valores[i] \n",
    "    Y_bus[conexiones[i][1]-1, conexiones[i][0]-1] = -valores[i] \n",
    "for i in range(0,9):\n",
    "    Y_bus[i][i] = -np.sum(Y_bus[i])\n",
    "    \n",
    "print(Y_bus)"
   ]
  },
  {
   "cell_type": "code",
   "execution_count": 4,
   "id": "dccd7367",
   "metadata": {},
   "outputs": [],
   "source": [
    "Y_bus = np.round(Y_bus, decimals=2)\n",
    "\n",
    "wb = openpyxl.Workbook()\n",
    "hoja = wb.active\n",
    "\n",
    "# Escribir los datos en la hoja de cálculo\n",
    "for i in range(9):\n",
    "    for j in range(9):\n",
    "        valor = Y_bus[i, j]\n",
    "        hoja.cell(row=i + 1, column=j + 1).value = f\"{valor.real}+{valor.imag}j\"\n",
    "\n",
    "# Guardar el archivo de Excel\n",
    "wb.save(\"matriz_Y_bus.xlsx\")"
   ]
  }
 ],
 "metadata": {
  "kernelspec": {
   "display_name": "Python 3 (ipykernel)",
   "language": "python",
   "name": "python3"
  },
  "language_info": {
   "codemirror_mode": {
    "name": "ipython",
    "version": 3
   },
   "file_extension": ".py",
   "mimetype": "text/x-python",
   "name": "python",
   "nbconvert_exporter": "python",
   "pygments_lexer": "ipython3",
   "version": "3.11.4"
  }
 },
 "nbformat": 4,
 "nbformat_minor": 5
}
