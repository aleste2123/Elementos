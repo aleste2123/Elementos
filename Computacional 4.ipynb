{
 "cells": [
  {
   "cell_type": "markdown",
   "id": "3efd8f61",
   "metadata": {},
   "source": [
    "# Computacional 4"
   ]
  },
  {
   "cell_type": "markdown",
   "id": "57c51015",
   "metadata": {},
   "source": [
    "PARTE 1:\n",
    "\n",
    "\n",
    "La linea de transmisión genera una carga, lo cual, hay corriente y potencia; por la inductancia, capacitancia resistencia del cable.  Por eso, la corriente se encuentra en adelanto, dado que se encuentra mayormente capacitiva. \n",
    "\n"
   ]
  },
  {
   "cell_type": "code",
   "execution_count": 3,
   "id": "80945507",
   "metadata": {},
   "outputs": [
    {
     "name": "stdout",
     "output_type": "stream",
     "text": [
      "-4.479999999999997 ms\n"
     ]
    }
   ],
   "source": [
    "delta_t = 49.75 -54.23\n",
    "print(delta_t, \"ms\")"
   ]
  },
  {
   "cell_type": "code",
   "execution_count": 11,
   "id": "13b4c5a6",
   "metadata": {},
   "outputs": [
    {
     "name": "stdout",
     "output_type": "stream",
     "text": [
      "2.5079271839999997 VA\n"
     ]
    }
   ],
   "source": [
    "P_a = 120.008*6.966*10**(-3) *3\n",
    "\n",
    "print(P_a, \"VA\")"
   ]
  },
  {
   "cell_type": "markdown",
   "id": "02e52141",
   "metadata": {},
   "source": [
    "PARTE 2:\n",
    "La linea de transmisión, resulta que se encuentra en atraso dado que pasa de Y a Delta. (-30 grados)\n"
   ]
  },
  {
   "cell_type": "code",
   "execution_count": 13,
   "id": "d1a43de9",
   "metadata": {},
   "outputs": [
    {
     "name": "stdout",
     "output_type": "stream",
     "text": [
      "73.237522176 VA\n"
     ]
    }
   ],
   "source": [
    "P_a = 3*203.424*10**(-3)*120.008\n",
    "print(P_a , \"VA\")"
   ]
  },
  {
   "cell_type": "markdown",
   "id": "4d1d6286",
   "metadata": {},
   "source": [
    "Bono"
   ]
  },
  {
   "cell_type": "code",
   "execution_count": 21,
   "id": "ceed2078",
   "metadata": {},
   "outputs": [
    {
     "name": "stdout",
     "output_type": "stream",
     "text": [
      "74.05897369722454 VA\n"
     ]
    }
   ],
   "source": [
    "P_carga = 3*206.78/(3**0.5)*206.78*10**-3\n",
    "print(P_carga , \"VA\")"
   ]
  },
  {
   "cell_type": "code",
   "execution_count": 20,
   "id": "d396d92c",
   "metadata": {},
   "outputs": [
    {
     "name": "stdout",
     "output_type": "stream",
     "text": [
      "-0.8214515212245459 VA\n"
     ]
    }
   ],
   "source": [
    "p = P_a-P_carga\n",
    "print(p, \"VA\")"
   ]
  },
  {
   "cell_type": "markdown",
   "id": "aa1b020f",
   "metadata": {},
   "source": [
    "PARTE 3:\n",
    "\n",
    "Se encuentra en atraso, y tambien en atraso dado la inductancia "
   ]
  },
  {
   "cell_type": "code",
   "execution_count": 35,
   "id": "fa11a24f",
   "metadata": {},
   "outputs": [
    {
     "name": "stdout",
     "output_type": "stream",
     "text": [
      "690.166008\n",
      "640.6199974915435\n",
      "49.54601050845656\n"
     ]
    }
   ],
   "source": [
    "P_a = 3*120.008 * 1.917\n",
    "print(P_a)\n",
    "P_c = 3**0.5 * 1.923*192.336\n",
    "print(P_c)\n",
    "\n",
    "\n",
    "Linea = P_a-P_c\n",
    "print(Linea)"
   ]
  }
 ],
 "metadata": {
  "kernelspec": {
   "display_name": "Python 3 (ipykernel)",
   "language": "python",
   "name": "python3"
  },
  "language_info": {
   "codemirror_mode": {
    "name": "ipython",
    "version": 3
   },
   "file_extension": ".py",
   "mimetype": "text/x-python",
   "name": "python",
   "nbconvert_exporter": "python",
   "pygments_lexer": "ipython3",
   "version": "3.11.4"
  }
 },
 "nbformat": 4,
 "nbformat_minor": 5
}
